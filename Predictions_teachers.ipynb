{
 "cells": [
  {
   "cell_type": "code",
   "execution_count": 1,
   "metadata": {},
   "outputs": [
    {
     "data": {
      "text/html": [
       "<script>\n",
       "code_show=true; \n",
       "function code_toggle() {\n",
       " if (code_show){\n",
       " $('div.input').hide();\n",
       " } else {\n",
       " $('div.input').show();\n",
       " }\n",
       " code_show = !code_show\n",
       "} \n",
       "$( document ).ready(code_toggle);\n",
       "</script>\n",
       "<form action=\"javascript:code_toggle()\"><input type=\"submit\" value=\"Click here to toggle on/off the raw code.\"></form>"
      ],
      "text/plain": [
       "<IPython.core.display.HTML object>"
      ]
     },
     "execution_count": 1,
     "metadata": {},
     "output_type": "execute_result"
    }
   ],
   "source": [
    "from IPython.display import HTML\n",
    "\n",
    "HTML('''<script>\n",
    "code_show=true; \n",
    "function code_toggle() {\n",
    " if (code_show){\n",
    " $('div.input').hide();\n",
    " } else {\n",
    " $('div.input').show();\n",
    " }\n",
    " code_show = !code_show\n",
    "} \n",
    "$( document ).ready(code_toggle);\n",
    "</script>\n",
    "<form action=\"javascript:code_toggle()\"><input type=\"submit\" value=\"Click here to toggle on/off the raw code.\"></form>''')"
   ]
  },
  {
   "cell_type": "markdown",
   "metadata": {},
   "source": [
    "# Teachers Prediction:"
   ]
  },
  {
   "cell_type": "markdown",
   "metadata": {},
   "source": [
    "## 1. Predict bad teacher:\n",
    "This part of the jupyter's notebook computes different models to predict if a teacher performed bad (least 30 percentile) in the portfolio test based on information we have about their performance in PAA/PSU and GPA."
   ]
  },
  {
   "cell_type": "code",
   "execution_count": 2,
   "metadata": {},
   "outputs": [],
   "source": [
    "import pandas as pd\n",
    "import numpy as np\n",
    "import os\n",
    "import seaborn as sns\n",
    "%matplotlib inline\n",
    "from matplotlib import pyplot\n",
    "import matplotlib.pyplot as plt\n",
    "import plotly.plotly as py\n",
    "from scipy import stats\n",
    "from sklearn import datasets, linear_model, preprocessing\n",
    "from sklearn.ensemble import RandomForestClassifier\n",
    "from sklearn.linear_model import LogisticRegression\n",
    "from sklearn.tree import DecisionTreeClassifier\n",
    "from sklearn.model_selection import train_test_split, cross_val_score\n",
    "from sklearn import tree, svm\n",
    "from sklearn.metrics import accuracy_score, roc_auc_score\n",
    "from sklearn.linear_model import LinearRegression"
   ]
  },
  {
   "cell_type": "markdown",
   "metadata": {},
   "source": [
    "First, let's open the information available to run the models:"
   ]
  },
  {
   "cell_type": "code",
   "execution_count": 3,
   "metadata": {},
   "outputs": [
    {
     "data": {
      "text/html": [
       "<div>\n",
       "<style scoped>\n",
       "    .dataframe tbody tr th:only-of-type {\n",
       "        vertical-align: middle;\n",
       "    }\n",
       "\n",
       "    .dataframe tbody tr th {\n",
       "        vertical-align: top;\n",
       "    }\n",
       "\n",
       "    .dataframe thead th {\n",
       "        text-align: right;\n",
       "    }\n",
       "</style>\n",
       "<table border=\"1\" class=\"dataframe\">\n",
       "  <thead>\n",
       "    <tr style=\"text-align: right;\">\n",
       "      <th></th>\n",
       "      <th>periodo</th>\n",
       "      <th>ciclo</th>\n",
       "      <th>subsector</th>\n",
       "      <th>pf_pje</th>\n",
       "      <th>instr_pje</th>\n",
       "      <th>esc_r</th>\n",
       "      <th>Te_EvLevel</th>\n",
       "      <th>proceso</th>\n",
       "      <th>pref</th>\n",
       "      <th>cod</th>\n",
       "      <th>...</th>\n",
       "      <th>DeltaAvePrivado2</th>\n",
       "      <th>Duration</th>\n",
       "      <th>Duration2</th>\n",
       "      <th>DeltaDuration</th>\n",
       "      <th>DeltaDuration2</th>\n",
       "      <th>Type1</th>\n",
       "      <th>Type2</th>\n",
       "      <th>Type3</th>\n",
       "      <th>Type4</th>\n",
       "      <th>_merge</th>\n",
       "    </tr>\n",
       "  </thead>\n",
       "  <tbody>\n",
       "    <tr>\n",
       "      <th>0</th>\n",
       "      <td>2006</td>\n",
       "      <td>2do Ciclo</td>\n",
       "      <td>Matemtica</td>\n",
       "      <td>2.27</td>\n",
       "      <td>2.66</td>\n",
       "      <td>Competente</td>\n",
       "      <td>2</td>\n",
       "      <td>1977</td>\n",
       "      <td>1.0</td>\n",
       "      <td>3537</td>\n",
       "      <td>...</td>\n",
       "      <td>-0.014692</td>\n",
       "      <td>6.0</td>\n",
       "      <td>36.0</td>\n",
       "      <td>1.0</td>\n",
       "      <td>11.0</td>\n",
       "      <td>0</td>\n",
       "      <td>1</td>\n",
       "      <td>0</td>\n",
       "      <td>0</td>\n",
       "      <td>3</td>\n",
       "    </tr>\n",
       "    <tr>\n",
       "      <th>1</th>\n",
       "      <td>2006</td>\n",
       "      <td>2do Ciclo</td>\n",
       "      <td>Matemtica</td>\n",
       "      <td>2.27</td>\n",
       "      <td>2.66</td>\n",
       "      <td>Competente</td>\n",
       "      <td>2</td>\n",
       "      <td>1978</td>\n",
       "      <td>3.0</td>\n",
       "      <td>3303</td>\n",
       "      <td>...</td>\n",
       "      <td>NaN</td>\n",
       "      <td>5.0</td>\n",
       "      <td>25.0</td>\n",
       "      <td>NaN</td>\n",
       "      <td>NaN</td>\n",
       "      <td>0</td>\n",
       "      <td>1</td>\n",
       "      <td>0</td>\n",
       "      <td>0</td>\n",
       "      <td>3</td>\n",
       "    </tr>\n",
       "  </tbody>\n",
       "</table>\n",
       "<p>2 rows × 159 columns</p>\n",
       "</div>"
      ],
      "text/plain": [
       "   periodo      ciclo  subsector  pf_pje  instr_pje       esc_r  Te_EvLevel  \\\n",
       "0     2006  2do Ciclo  Matemtica    2.27       2.66  Competente           2   \n",
       "1     2006  2do Ciclo  Matemtica    2.27       2.66  Competente           2   \n",
       "\n",
       "   proceso  pref   cod   ...    DeltaAvePrivado2  Duration  Duration2  \\\n",
       "0     1977   1.0  3537   ...           -0.014692       6.0       36.0   \n",
       "1     1978   3.0  3303   ...                 NaN       5.0       25.0   \n",
       "\n",
       "   DeltaDuration  DeltaDuration2  Type1  Type2  Type3  Type4  _merge  \n",
       "0            1.0            11.0      0      1      0      0       3  \n",
       "1            NaN             NaN      0      1      0      0       3  \n",
       "\n",
       "[2 rows x 159 columns]"
      ]
     },
     "execution_count": 3,
     "metadata": {},
     "output_type": "execute_result"
    }
   ],
   "source": [
    "df_path = os.getcwd() + '/data/PAA-evdoc.csv'\n",
    "df = None\n",
    "#with open(df_path, encoding=\"utf-16\") as f:\n",
    "with open(df_path, encoding=\"utf8\", errors='ignore') as f:\n",
    "    df = pd.read_csv(f)\n",
    "\n",
    "df.head(2)"
   ]
  },
  {
   "cell_type": "markdown",
   "metadata": {},
   "source": [
    "Quick df clean:"
   ]
  },
  {
   "cell_type": "code",
   "execution_count": 4,
   "metadata": {},
   "outputs": [],
   "source": [
    "#Quick df clean:\n",
    "scores = ['paa_verbal', 'paa_matematica', 'nem', 'gpa', 'pce_hria_y_geografia', 'pce_biologia', 'pce_cs_sociales', 'pce_fisica', 'pce_matematica', 'pce_quimica']\n",
    "cat = ['region', 'male']\n",
    "df_s = df[scores].copy()\n",
    "\n",
    "bygroup = 0\n",
    "if bygroup == 1:\n",
    "    df_s['periodo'] = df['periodo']\n",
    "    df_s = df_s.groupby('periodo').transform(lambda x: (x - x.mean()) / x.std())\n",
    "else:\n",
    "    df_s = (df[scores] - df[scores].mean())/df[scores].std()\n",
    "df_s['Average'] = (df['paa_verbal'] + df['paa_matematica'])/2\n",
    "\n",
    "df_c = df[cat].copy()\n",
    "\n",
    "df_s['took_hist'] = (df.pce_hria_y_geografia == 0)\n",
    "df_s['took_bio'] = (df.pce_biologia == 0)\n",
    "df_s['took_soc'] = (df.pce_cs_sociales == 0)\n",
    "df_s['took_fis'] = (df.pce_fisica == 0)\n",
    "df_s['took_mat'] = (df.pce_matematica == 0)\n",
    "df_s['took_qui'] = (df.pce_quimica == 0)\n",
    "\n",
    "y = df['pf_pje']\n",
    "\n",
    "df = pd.concat([df_s, df_c, y], axis=1)\n",
    "\n",
    "df = df.dropna()\n",
    "df.region = df.region.astype(int)\n",
    "df.male = df.male.astype(int)\n",
    "\n",
    "#Divide the sample distribution in 10 types:\n",
    "df['xtile'] = pd.qcut(df.pf_pje, 10, labels = ['percentil: '+str(i) for i in range(10)])\n",
    "df['worst'] = (df['xtile'] == 'percentil: 0' ) | (df['xtile'] == 'percentil: 1') | (df['xtile'] == 'percentil: 2')\n",
    "\n",
    "df.columns = ['paaverbal' if x=='paa_verbal' else 'paamat' if x =='paa_matematica' else x for x in df.columns] #Change colname\n",
    "\n",
    "x_variables = [x if (x!='pf_pje' and x!='xtile' and x!='worst' and x!='region9') else \"AAA\" for x in list(df)]\n",
    "x_variables = sorted(list(set(x_variables)))\n",
    "del x_variables[0]\n",
    "\n",
    "X_transformed = df[x_variables].dropna().drop(columns = ['region',\n",
    "'pce_biologia', 'pce_cs_sociales', 'pce_fisica', 'pce_hria_y_geografia', 'pce_matematica', 'pce_quimica'])\n",
    "#'took_bio', 'took_fis', 'took_hist', 'took_mat', 'took_qui', 'took_soc', 'paamat', 'paaverbal'\n",
    "\n",
    "X_transformed['paa_avg'] = (X_transformed.Average - X_transformed.Average.mean())/X_transformed.Average.std()\n",
    "Y = df['worst']      #Here we have the indicator of bad teacher\n",
    "y_pf = (df['pf_pje'] - df['pf_pje'].mean())/df['pf_pje'].std()  #Here the pf_pje\n",
    "X_transformed = X_transformed.drop(columns = ['Average', 'paa_avg', 'gpa'])\n",
    "\n",
    "X_train_transformed, X_test_transformed, y_train, y_test = train_test_split(X_transformed, Y, test_size=0.15)\n"
   ]
  },
  {
   "cell_type": "markdown",
   "metadata": {},
   "source": [
    "### 1.1. Likelihood vs teacher performance scatterplot"
   ]
  },
  {
   "cell_type": "markdown",
   "metadata": {},
   "source": [
    "Define a function which inserts the predictions (predict) and the likelihood (predict_proba) in the main dataframe. One can easily change the model introducing the name of the predictive model in the args."
   ]
  },
  {
   "cell_type": "code",
   "execution_count": 5,
   "metadata": {},
   "outputs": [],
   "source": [
    "def gen_predictions(Classifier, X_train, X_test, y_train):\n",
    "    from sklearn import tree, svm\n",
    "    SVC = svm.SVC\n",
    "    if Classifier == SVC:\n",
    "        clf = Classifier(C=1, probability=True)\n",
    "    else:\n",
    "        clf = Classifier()\n",
    "    clf = clf.fit(X_train, y_train)\n",
    "\n",
    "    y_test_hat = clf.predict_proba(X_test)[:,1]  #Prob of bad Teacher\n",
    "    y_test_predict = clf.predict(X_test)  #Prob of bad Teacher\n",
    "\n",
    "    ndf = y_test_hat.shape[0]\n",
    "    df_ml_test = X_test.copy()\n",
    "    df_ml_test['y_test_hat'] = y_test_hat\n",
    "    df_ml_test = df_ml_test.sort_values(by = ['y_test_hat'])\n",
    "\n",
    "    return df_ml_test, clf.predict_proba(X_test), y_test_predict"
   ]
  },
  {
   "cell_type": "code",
   "execution_count": 6,
   "metadata": {},
   "outputs": [],
   "source": [
    "df_rf_test , y_test_hat, y_test_predict = gen_predictions(RandomForestClassifier, X_train_transformed, X_test_transformed, y_train)"
   ]
  },
  {
   "cell_type": "code",
   "execution_count": 7,
   "metadata": {},
   "outputs": [
    {
     "name": "stdout",
     "output_type": "stream",
     "text": [
      "Overall Accuracy: 0.90 \n",
      "Type 1 error: 0.23 \n",
      "Type 2 error:  0.10\n"
     ]
    }
   ],
   "source": [
    "accuracy = np.mean(y_test_predict == y_test)\n",
    "type1_error = 1 - np.mean(y_test[y_test==1] == y_test_predict[y_test==1]) #Type 1 error: Probabilidad de predecir que no es malo cuando si lo es\n",
    "type2_error = 1 - np.mean(y_test[y_test_predict == 1] == y_test_predict[y_test_predict == 1]) #probabilidad de predecir que profesor es malo cuando en realidad es bueno (Error tipo 2)\n",
    "\n",
    "print(\"Overall Accuracy: %.2f \\nType 1 error: %.2f \\nType 2 error:  %.2f\" % (accuracy, type1_error, type2_error))\n"
   ]
  },
  {
   "cell_type": "markdown",
   "metadata": {},
   "source": [
    "Plot Results of the Model. In this case we are using Random forest Estimation"
   ]
  },
  {
   "cell_type": "markdown",
   "metadata": {},
   "source": [
    "#### Graph 1.1: Likelihood vs PAA Math"
   ]
  },
  {
   "cell_type": "code",
   "execution_count": 8,
   "metadata": {},
   "outputs": [
    {
     "data": {
      "text/plain": [
       "Text(0.5,0,'PAA Math')"
      ]
     },
     "execution_count": 8,
     "metadata": {},
     "output_type": "execute_result"
    },
    {
     "data": {
      "image/png": "[encoded data removed]",
      "text/plain": [
       "<matplotlib.figure.Figure at 0x2c026d96ef0>"
      ]
     },
     "metadata": {},
     "output_type": "display_data"
    }
   ],
   "source": [
    "sns.regplot(df_rf_test.paamat, df_rf_test.y_test_hat, x_bins = 15)\n",
    "plt.ylabel(r'$\\^Yprob$')\n",
    "plt.xlabel('PAA Math')\n",
    "#plt.savefig(r'C:\\\\Users\\\\Franco\\\\GitHub\\\\teacher-predictions\\\\output\\\\Pr_vs_paa_mat.pdf', bbox_inches='tight')"
   ]
  },
  {
   "cell_type": "markdown",
   "metadata": {},
   "source": [
    "#### Graph 1.2: Likelihood vs PAA Verbal"
   ]
  },
  {
   "cell_type": "code",
   "execution_count": 9,
   "metadata": {},
   "outputs": [
    {
     "data": {
      "text/plain": [
       "Text(0.5,0,'PAA Verbal')"
      ]
     },
     "execution_count": 9,
     "metadata": {},
     "output_type": "execute_result"
    },
    {
     "data": {
      "image/png": "[encoded data removed]",
      "text/plain": [
       "<matplotlib.figure.Figure at 0x2c014140518>"
      ]
     },
     "metadata": {},
     "output_type": "display_data"
    }
   ],
   "source": [
    "sns.regplot(df_rf_test.paaverbal, df_rf_test.y_test_hat, x_bins = 15)\n",
    "plt.ylabel(r'$\\^Yprob$')\n",
    "plt.xlabel('PAA Verbal')\n",
    "#plt.savefig(r'C:\\\\Users\\\\Franco\\\\GitHub\\\\teacher-predictions\\\\output\\\\Pr_vs_paa_verbal.pdf', bbox_inches='tight')"
   ]
  },
  {
   "cell_type": "markdown",
   "metadata": {},
   "source": [
    "#### Graph 1.3: Likelihood vs PAA Average"
   ]
  },
  {
   "cell_type": "code",
   "execution_count": 10,
   "metadata": {},
   "outputs": [
    {
     "data": {
      "text/plain": [
       "Text(0.5,0,'PAA Average')"
      ]
     },
     "execution_count": 10,
     "metadata": {},
     "output_type": "execute_result"
    },
    {
     "data": {
      "image/png": "[encoded data removed]",
      "text/plain": [
       "<matplotlib.figure.Figure at 0x2c02753fa20>"
      ]
     },
     "metadata": {},
     "output_type": "display_data"
    }
   ],
   "source": [
    "df_rf_test['paa_avg'] = (df_rf_test.paaverbal + df_rf_test.paamat)/2\n",
    "sns.regplot(df_rf_test.paa_avg, df_rf_test.y_test_hat, x_bins = 15)\n",
    "plt.ylabel(r'$\\^Yprob$')\n",
    "plt.xlabel('PAA Average')\n",
    "#plt.savefig(r'C:\\\\Users\\\\Franco\\\\GitHub\\\\teacher-predictions\\\\output\\\\Pr_vs_paa_avg.pdf', bbox_inches='tight')"
   ]
  },
  {
   "cell_type": "markdown",
   "metadata": {},
   "source": [
    "#### Graph 1.4: Likelihood vs GPA"
   ]
  },
  {
   "cell_type": "code",
   "execution_count": 11,
   "metadata": {},
   "outputs": [
    {
     "data": {
      "text/plain": [
       "Text(0.5,0,'GPA')"
      ]
     },
     "execution_count": 11,
     "metadata": {},
     "output_type": "execute_result"
    },
    {
     "data": {
      "image/png": "[encoded data removed]",
      "text/plain": [
       "<matplotlib.figure.Figure at 0x2c0274eccf8>"
      ]
     },
     "metadata": {},
     "output_type": "display_data"
    }
   ],
   "source": [
    "sns.regplot(df_rf_test.nem, df_rf_test.y_test_hat, x_bins = 15)\n",
    "plt.ylabel(r'$\\^Yprob$')\n",
    "plt.xlabel('GPA')\n",
    "#plt.savefig(r'C:\\\\Users\\\\Franco\\\\GitHub\\\\teacher-predictions\\\\output\\\\Pr_vs_gpa.pdf', bbox_inches='tight')"
   ]
  },
  {
   "cell_type": "markdown",
   "metadata": {},
   "source": [
    "### 1.2. Sensitivity Analysis"
   ]
  },
  {
   "cell_type": "markdown",
   "metadata": {},
   "source": [
    "#### Graph 1.5: Accuracy of the model by each level likelihood"
   ]
  },
  {
   "cell_type": "code",
   "execution_count": 12,
   "metadata": {},
   "outputs": [
    {
     "data": {
      "text/plain": [
       "Text(0,0.5,'Accuracy: 1 - Pr(failure)')"
      ]
     },
     "execution_count": 12,
     "metadata": {},
     "output_type": "execute_result"
    },
    {
     "data": {
      "image/png": "[encoded data removed]",
      "text/plain": [
       "<matplotlib.figure.Figure at 0x2c026d2d7f0>"
      ]
     },
     "metadata": {},
     "output_type": "display_data"
    }
   ],
   "source": [
    "accuracy_list = []\n",
    "pr_list = list(np.unique(y_test_hat[:,1][y_test_hat[:,1]>=.5]))\n",
    "for pr in pr_list:\n",
    "    acc = np.mean(y_test[y_test_hat[:,1]>=pr] == y_test_predict[y_test_hat[:,1]>=pr])\n",
    "    accuracy_list.append(acc)\n",
    "\n",
    "ticks = np.arange(len(accuracy_list))\n",
    "pr_list = [round(x, 2) for x in pr_list]\n",
    "ticks_label = [str(x) for x in pr_list]\n",
    "\n",
    "plt.bar(ticks,accuracy_list, align='center', alpha=0.7, color = 'gray')\n",
    "plt.xticks(ticks, ticks_label)\n",
    "plt.xlabel('Y hat')\n",
    "plt.ylabel('Accuracy: 1 - Pr(failure)')\n",
    "#plt.savefig(r'D:\\\\Google Drive\\\\Teacher Quality\\\\4. Work\\\\Prediction\\\\Appendix\\\\accuracy.pdf', bbox_inches='tight')"
   ]
  },
  {
   "cell_type": "markdown",
   "metadata": {},
   "source": [
    "### 1.3. Cross Validation"
   ]
  },
  {
   "cell_type": "code",
   "execution_count": 13,
   "metadata": {},
   "outputs": [],
   "source": [
    "from sklearn import tree, svm\n",
    "from sklearn.ensemble import AdaBoostClassifier, AdaBoostRegressor\n",
    "from sklearn.tree import DecisionTreeClassifier, DecisionTreeRegressor\n",
    "#CrossValidation Excercise Accuracy tests:\n",
    "accuracy_type2_rf = []\n",
    "accuracy_overall_rf = []\n",
    "\n",
    "accuracy_type2_dt = []\n",
    "accuracy_overall_dt = []\n",
    "\n",
    "accuracy_type2_svc = []\n",
    "accuracy_overall_svc = []\n",
    "\n",
    "accuracy_type2_lr = []\n",
    "accuracy_overall_lr = []\n",
    "\n",
    "# Cross Validate\n",
    "\n",
    "for i in range(10):\n",
    "\n",
    "    X_train_transformed, X_test_transformed, y_train, y_test = train_test_split(X_transformed, Y, test_size=0.15)\n",
    "\n",
    "    clf = RandomForestClassifier()\n",
    "    clf = clf.fit(X_train_transformed, y_train)\n",
    "    y_test_hat = clf.predict(X_test_transformed)  #Prob of bad Teacher\n",
    "    acc_overall = np.mean(y_test == y_test_hat)\n",
    "    acc_type2 = np.mean(y_test[y_test_hat==1] == y_test_hat[y_test_hat==1])\n",
    "    accuracy_overall_rf.append(acc_overall)\n",
    "    accuracy_type2_rf.append(acc_type2)\n",
    "\n",
    "    clf = DecisionTreeClassifier()\n",
    "    clf = clf.fit(X_train_transformed, y_train)\n",
    "    y_test_hat = clf.predict(X_test_transformed)  #Prob of bad Teacher\n",
    "    acc_overall = np.mean(y_test == y_test_hat)\n",
    "    acc_type2 = np.mean(y_test[y_test_hat==1] == y_test_hat[y_test_hat==1])\n",
    "    accuracy_overall_dt.append(acc_overall)\n",
    "    accuracy_type2_dt.append(acc_type2)\n",
    "\n",
    "    clf = LogisticRegression()\n",
    "    clf = clf.fit(X_train_transformed, y_train)\n",
    "    y_test_hat = clf.predict(X_test_transformed)  #Prob of bad Teacher\n",
    "    acc_overall = np.mean(y_test == y_test_hat)\n",
    "    acc_type2 = np.mean(y_test[y_test_hat==1] == y_test_hat[y_test_hat==1])\n",
    "    accuracy_overall_lr.append(acc_overall)\n",
    "    accuracy_type2_lr.append(acc_type2)\n",
    "    \n",
    "    if (i+1)%50 == 0:\n",
    "        print(f\"Crosvalidation: {i}\")\n"
   ]
  },
  {
   "cell_type": "markdown",
   "metadata": {},
   "source": [
    "#### Graph 1.6: Cross Validation Random Forest"
   ]
  },
  {
   "cell_type": "code",
   "execution_count": 14,
   "metadata": {},
   "outputs": [
    {
     "data": {
      "text/plain": [
       "<matplotlib.legend.Legend at 0x2c027687748>"
      ]
     },
     "execution_count": 14,
     "metadata": {},
     "output_type": "execute_result"
    },
    {
     "data": {
      "image/png": "[encoded data removed]",
      "text/plain": [
       "<matplotlib.figure.Figure at 0x2c027687278>"
      ]
     },
     "metadata": {},
     "output_type": "display_data"
    }
   ],
   "source": [
    "sns.kdeplot(accuracy_overall_rf, alpha=0.8, color = 'orange', label = 'Overall Accuracy')\n",
    "sns.kdeplot(accuracy_type2_rf, alpha=0.8, color = 'gray', label = 'Type 2 Error')\n",
    "plt.xlabel('Prediction success')\n",
    "plt.ylabel('Density')\n",
    "plt.legend(loc=1)"
   ]
  },
  {
   "cell_type": "markdown",
   "metadata": {},
   "source": [
    "#### Graph 1.7: Cross Validation Random Forest vs Decision Tree"
   ]
  },
  {
   "cell_type": "code",
   "execution_count": 15,
   "metadata": {},
   "outputs": [
    {
     "data": {
      "text/plain": [
       "<function matplotlib.pyplot.show>"
      ]
     },
     "execution_count": 15,
     "metadata": {},
     "output_type": "execute_result"
    },
    {
     "data": {
      "image/png": "[encoded data removed]",
      "text/plain": [
       "<matplotlib.figure.Figure at 0x2c027b5a160>"
      ]
     },
     "metadata": {},
     "output_type": "display_data"
    }
   ],
   "source": [
    "sns.kdeplot(accuracy_overall_rf, alpha=0.8, color = 'orange', label = 'Random Forest')\n",
    "sns.kdeplot(accuracy_overall_dt, alpha=0.8, color = 'gray', label = 'Decision Tree')\n",
    "sns.kdeplot(accuracy_overall_lr, alpha=0.8, color = 'black', label = 'Logistic Regression')\n",
    "plt.xlabel('Prediction success')\n",
    "plt.ylabel('Density')\n",
    "plt.legend(loc=1)\n",
    "plt.show"
   ]
  },
  {
   "cell_type": "markdown",
   "metadata": {},
   "source": [
    "#### Graph 1.8: Cross Validation RF vs DT (type 2 error)"
   ]
  },
  {
   "cell_type": "code",
   "execution_count": 16,
   "metadata": {},
   "outputs": [
    {
     "data": {
      "image/png": "[encoded data removed]",
      "text/plain": [
       "<matplotlib.figure.Figure at 0x2c027c4f4e0>"
      ]
     },
     "metadata": {},
     "output_type": "display_data"
    }
   ],
   "source": [
    "sns.kdeplot(accuracy_type2_rf, alpha=0.8, color = 'orange', label = 'Random Forest')\n",
    "sns.kdeplot(accuracy_type2_dt, alpha=0.8, color = 'gray', label = 'Decision Tree')\n",
    "plt.xlabel('Prediction success')\n",
    "plt.ylabel('Density')\n",
    "plt.legend(loc=1)\n",
    "plt.show()"
   ]
  },
  {
   "cell_type": "markdown",
   "metadata": {},
   "source": [
    "### 1.4. Get importance of the variables of the best model"
   ]
  },
  {
   "cell_type": "code",
   "execution_count": 17,
   "metadata": {},
   "outputs": [
    {
     "name": "stdout",
     "output_type": "stream",
     "text": [
      "('paaverbal', 0.3230873056539488)\n",
      "('paamat', 0.31330577457346875)\n",
      "('nem', 0.24341021393831355)\n",
      "('took_hist', 0.02260489902900057)\n",
      "('took_soc', 0.021878713131917877)\n",
      "('took_bio', 0.020618258038409474)\n",
      "('took_mat', 0.01581842118837758)\n",
      "('took_fis', 0.014748694028452336)\n",
      "('took_qui', 0.013969945000959282)\n",
      "('male', 0.010557775417151812)\n"
     ]
    }
   ],
   "source": [
    "clf = RandomForestClassifier()\n",
    "clf = clf.fit(X_train_transformed, y_train)\n",
    "y_test_hat = clf.predict(X_test_transformed)  #Prob of bad Teacher\n",
    "acc_overall = np.mean(y_test == y_test_hat)\n",
    "acc_type2 = np.mean(y_test[y_test_hat==1] == y_test_hat[y_test_hat==1])\n",
    "accuracy_overall_rf.append(acc_overall)\n",
    "accuracy_type2_rf.append(acc_type2)\n",
    "\n",
    "importance = clf.feature_importances_\n",
    "FeatImp = {}\n",
    "\n",
    "feature_list = list(X_train_transformed.columns)\n",
    "\n",
    "for x in range(0,len(feature_list)):\n",
    "    if importance[x]>0:\n",
    "        FeatImp[feature_list[x]]=importance[x]\n",
    "        \n",
    "s = [(k, FeatImp[k]) for k in sorted(FeatImp, key=FeatImp.get, reverse=True)]\n",
    "for item in s:\n",
    "    print(item)"
   ]
  },
  {
   "cell_type": "markdown",
   "metadata": {},
   "source": [
    "#### Graph 1.9: Contribution of each feature to the prediction"
   ]
  },
  {
   "cell_type": "code",
   "execution_count": 18,
   "metadata": {},
   "outputs": [
    {
     "data": {
      "image/png": "[encoded data removed]",
      "text/plain": [
       "<matplotlib.figure.Figure at 0x2c027bf7da0>"
      ]
     },
     "metadata": {},
     "output_type": "display_data"
    }
   ],
   "source": [
    "plt.bar(range(len(FeatImp)), list(FeatImp.values()), align='center')\n",
    "plt.xticks(range(len(FeatImp)), list(FeatImp.keys()), rotation='vertical')\n",
    "plt.show()"
   ]
  },
  {
   "cell_type": "markdown",
   "metadata": {},
   "source": [
    "### 1.4. Prediction of the portfolio score"
   ]
  },
  {
   "cell_type": "code",
   "execution_count": 19,
   "metadata": {},
   "outputs": [],
   "source": [
    "from sklearn import linear_model\n",
    "from sklearn.metrics import r2_score"
   ]
  },
  {
   "cell_type": "markdown",
   "metadata": {},
   "source": [
    "#### Graph 1.10: Portfolio vs PAA - Math"
   ]
  },
  {
   "cell_type": "code",
   "execution_count": 20,
   "metadata": {},
   "outputs": [
    {
     "data": {
      "text/plain": [
       "Text(0.5,0,'PAA - Mathematics')"
      ]
     },
     "execution_count": 20,
     "metadata": {},
     "output_type": "execute_result"
    },
    {
     "data": {
      "image/png": "[encoded data removed]",
      "text/plain": [
       "<matplotlib.figure.Figure at 0x2c0278ad6d8>"
      ]
     },
     "metadata": {},
     "output_type": "display_data"
    }
   ],
   "source": [
    "sns.regplot(X_transformed.paamat, y_pf, x_bins = 15)\n",
    "plt.ylabel(r'Portfolio Score')\n",
    "plt.xlabel('PAA - Mathematics')"
   ]
  },
  {
   "cell_type": "markdown",
   "metadata": {},
   "source": [
    "#### Graph 1.11: Portfolio vs PAA - Verbal"
   ]
  },
  {
   "cell_type": "code",
   "execution_count": 21,
   "metadata": {},
   "outputs": [
    {
     "data": {
      "text/plain": [
       "Text(0.5,0,'PAA - Verbal')"
      ]
     },
     "execution_count": 21,
     "metadata": {},
     "output_type": "execute_result"
    },
    {
     "data": {
      "image/png": "[encoded data removed]",
      "text/plain": [
       "<matplotlib.figure.Figure at 0x2c027939ac8>"
      ]
     },
     "metadata": {},
     "output_type": "display_data"
    }
   ],
   "source": [
    "sns.regplot(X_transformed.paaverbal, y_pf, x_bins = 15)\n",
    "plt.ylabel(r'Portfolio Score')\n",
    "plt.xlabel('PAA - Verbal')"
   ]
  },
  {
   "cell_type": "markdown",
   "metadata": {},
   "source": [
    "#### Graph 1.12: Portfolio vs GPA"
   ]
  },
  {
   "cell_type": "code",
   "execution_count": 22,
   "metadata": {},
   "outputs": [
    {
     "data": {
      "text/plain": [
       "Text(0.5,0,'GPA')"
      ]
     },
     "execution_count": 22,
     "metadata": {},
     "output_type": "execute_result"
    },
    {
     "data": {
      "image/png": "[encoded data removed]",
      "text/plain": [
       "<matplotlib.figure.Figure at 0x2c027be7b00>"
      ]
     },
     "metadata": {},
     "output_type": "display_data"
    }
   ],
   "source": [
    "sns.regplot(X_transformed.nem, y_pf, x_bins = 15)\n",
    "plt.ylabel(r'Portfolio Score')\n",
    "plt.xlabel('GPA')"
   ]
  },
  {
   "cell_type": "code",
   "execution_count": 23,
   "metadata": {},
   "outputs": [],
   "source": [
    "X_train_transformed, X_test_transformed, y_train, y_test = train_test_split(X_transformed, y_pf, test_size=0.25)\n",
    "\n",
    "clf = linear_model.LinearRegression()\n",
    "clf.fit(X_train_transformed, y_train)\n",
    "pred_train_lr = clf.predict(X_train_transformed)\n",
    "pred_test_lr = clf.predict(X_test_transformed)\n",
    "ls_r = clf.score(X_test_transformed, y_test)\n",
    "\n",
    "clf = linear_model.RidgeCV()\n",
    "clf.fit(X_train_transformed, y_train)\n",
    "pred_train_rd = clf.predict(X_train_transformed)\n",
    "pred_test_rd = clf.predict(X_test_transformed)\n",
    "clf.score(X_train_transformed, y_train)\n",
    "rcv_r = clf.score(X_test_transformed, y_test)\n",
    "\n",
    "clf = linear_model.Lasso(alpha = 0.1)\n",
    "clf.fit(X_train_transformed, y_train)\n",
    "pred_train_la = clf.predict(X_train_transformed)\n",
    "pred_test_la = clf.predict(X_test_transformed)\n",
    "clf.score(X_train_transformed, y_train)\n",
    "lasso_r = clf.score(X_test_transformed, y_test)"
   ]
  },
  {
   "cell_type": "code",
   "execution_count": 24,
   "metadata": {},
   "outputs": [
    {
     "name": "stdout",
     "output_type": "stream",
     "text": [
      "OLS R2: 0.0148 \n",
      "Ridge R2: 0.0148 \n",
      "Lasso R2:  0.0041\n"
     ]
    }
   ],
   "source": [
    "print(\"OLS R2: %.4f \\nRidge R2: %.4f \\nLasso R2:  %.4f\" % (ls_r, rcv_r, lasso_r))\n"
   ]
  },
  {
   "cell_type": "markdown",
   "metadata": {},
   "source": [
    "#### Graph 1.13: Predicted portfolio (OLS) vs portfolio"
   ]
  },
  {
   "cell_type": "code",
   "execution_count": 47,
   "metadata": {},
   "outputs": [
    {
     "data": {
      "text/plain": [
       "(-0.3, 0.3)"
      ]
     },
     "execution_count": 47,
     "metadata": {},
     "output_type": "execute_result"
    },
    {
     "data": {
      "image/png": "[encoded data removed]",
      "text/plain": [
       "<matplotlib.figure.Figure at 0x2c0287b02b0>"
      ]
     },
     "metadata": {},
     "output_type": "display_data"
    }
   ],
   "source": [
    "sns.regplot(pred_test_lr, y_test, x_bins = 15, color='g', label='OLS fit - test data')\n",
    "plt.plot(np.array(np.linspace(-.3, .3, num=5)), np.array(np.linspace(-.3, .3, num=5)), color='gray',alpha=.3,linestyle='--', label='45 degree line')\n",
    "plt.ylabel(r'Portfolio Score')\n",
    "plt.xlabel('Predicted Portfolio Score')\n",
    "plt.legend()\n",
    "ax = plt.gca()\n",
    "ax.set_ylim([-.3, .3])\n",
    "ax.set_xlim([-.3, .3])"
   ]
  },
  {
   "cell_type": "markdown",
   "metadata": {},
   "source": [
    "#### Graph 1.14: Predicted portfolio (Ridge) vs portfolio"
   ]
  },
  {
   "cell_type": "code",
   "execution_count": 48,
   "metadata": {},
   "outputs": [
    {
     "data": {
      "text/plain": [
       "(-0.3, 0.3)"
      ]
     },
     "execution_count": 48,
     "metadata": {},
     "output_type": "execute_result"
    },
    {
     "data": {
      "image/png": "[encoded data removed]",
      "text/plain": [
       "<matplotlib.figure.Figure at 0x2c027ba7710>"
      ]
     },
     "metadata": {},
     "output_type": "display_data"
    }
   ],
   "source": [
    "sns.regplot(pred_test_rd, y_test, x_bins = 15, color='g', label='Ridge - test data')\n",
    "plt.plot(np.array(np.linspace(-.3, .3, num=5)), np.array(np.linspace(-.3, .3, num=5)), color='gray', alpha = 0.3, linestyle='--', label='45 degree line')\n",
    "plt.ylabel(r'Portfolio Score')\n",
    "plt.xlabel('Predicted Portfolio Score')\n",
    "plt.legend()\n",
    "ax = plt.gca()\n",
    "ax.set_ylim([-.3, .3])\n",
    "ax.set_xlim([-.3, .3])"
   ]
  },
  {
   "cell_type": "code",
   "execution_count": null,
   "metadata": {},
   "outputs": [],
   "source": []
  },
  {
   "cell_type": "code",
   "execution_count": null,
   "metadata": {},
   "outputs": [],
   "source": []
  },
  {
   "cell_type": "code",
   "execution_count": null,
   "metadata": {},
   "outputs": [],
   "source": []
  },
  {
   "cell_type": "code",
   "execution_count": null,
   "metadata": {},
   "outputs": [],
   "source": []
  },
  {
   "cell_type": "code",
   "execution_count": null,
   "metadata": {},
   "outputs": [],
   "source": []
  },
  {
   "cell_type": "code",
   "execution_count": null,
   "metadata": {},
   "outputs": [],
   "source": []
  },
  {
   "cell_type": "markdown",
   "metadata": {},
   "source": [
    "## 2. Predict probability of work as teacher:\n",
    "This part of the jupyter's notebook computes different models to predict if a student, given their characteristics is going to be a teacher in the future. "
   ]
  },
  {
   "cell_type": "code",
   "execution_count": null,
   "metadata": {},
   "outputs": [],
   "source": [
    "df_path = os.getcwd() + '/data/proceso_evdoc.csv'\n",
    "df = None\n",
    "#with open(df_path, encoding=\"utf-16\") as f:\n",
    "with open(df_path, \"r\") as f:\n",
    "    df = pd.read_csv(f)\n",
    "\n",
    "df.head(2)"
   ]
  },
  {
   "cell_type": "code",
   "execution_count": null,
   "metadata": {},
   "outputs": [],
   "source": [
    "tests = ['pce_fisica', 'pce_quimica', 'pce_biologia', 'pce_matematica', 'pce_cs_sociales', 'pce_hria_y_geografia']\n",
    "for test in tests:\n",
    "    df['took_'+str(test)] = (df[test]==0)\n",
    "\n",
    "\n",
    "scores = ['nem', 'paa_verbal', 'paa_matematica', 'pce_fisica', 'pce_quimica', 'pce_biologia', 'pce_matematica', 'pce_cs_sociales', 'pce_hria_y_geografia']\n",
    "df[scores] = (df[scores] - df[scores].mean())/df[scores].std()\n",
    "\n",
    "df.head(1)\n",
    "vars = ['proceso', 'nem', 'paa_verbal', 'paa_matematica', 'pce_fisica', 'pce_quimica', 'pce_biologia', 'pce_matematica', 'pce_cs_sociales', 'pce_hria_y_geografia', 'took_pce_fisica', 'took_pce_quimica', 'took_pce_biologia', 'took_pce_matematica', 'took_pce_cs_sociales', 'took_pce_hria_y_geografia', 'fl_teacher', 'isteacher']\n",
    "indepvars = vars[:-2]\n",
    "depvar = vars[-2]\n",
    "depvar2 = vars[-1]\n",
    "\n",
    "teacher_2 = 1   #Activate this when we want to predict if the student is a prefesor given that his/her fl is 1\n",
    "if teacher_2 == 1:\n",
    "    df = df[vars][df['fl_teacher']==1].dropna()\n",
    "    Y = df[depvar2]\n",
    "else:\n",
    "    df = df[vars].dropna()\n",
    "    Y = df[depvar]\n",
    "\n",
    "X = df[indepvars]\n",
    "\n",
    "X_train, X_test, y_train, y_test = train_test_split(X, Y, test_size=0.15)"
   ]
  },
  {
   "cell_type": "markdown",
   "metadata": {},
   "source": [
    "### 2.1. Likelihood of being teacher vs undergrad performance scatterplot"
   ]
  },
  {
   "cell_type": "code",
   "execution_count": null,
   "metadata": {},
   "outputs": [],
   "source": [
    "df_rf_test , y_test_hat, y_test_predict = gen_predictions(RandomForestClassifier, X_train, X_test, y_train)"
   ]
  },
  {
   "cell_type": "code",
   "execution_count": null,
   "metadata": {},
   "outputs": [],
   "source": [
    "y_test.mean()\n",
    "y_test_predict.mean()\n",
    "#Accuracy tests:\n",
    "accuracy = np.mean(y_test_predict == y_test)\n",
    "type1_error = np.mean(y_test[y_test==1] == y_test_predict[y_test==1]) #Type 1 error: Probabilidad acierto cuando es profesor\n",
    "type2_error = np.mean(y_test[y_test_predict == 1] == y_test_predict[y_test_predict == 1]) #probabilidad de predecir que es profesor"
   ]
  },
  {
   "cell_type": "code",
   "execution_count": null,
   "metadata": {},
   "outputs": [],
   "source": [
    "print(\"Overall Accuracy: %.2f \\nType 1 error: %.2f \\nType 2 error:  %.2f\" % (accuracy, type1_error, type2_error))"
   ]
  },
  {
   "cell_type": "markdown",
   "metadata": {},
   "source": [
    "#### Graph 2.1: Likelihood vs PAA Math"
   ]
  },
  {
   "cell_type": "code",
   "execution_count": null,
   "metadata": {},
   "outputs": [],
   "source": [
    "sns.regplot(df_rf_test.paa_matematica, df_rf_test.y_test_hat, x_bins = 25)\n",
    "plt.ylabel(r'$\\^Yprob$')\n",
    "plt.xlabel('PAA Math')\n",
    "plt.show()"
   ]
  },
  {
   "cell_type": "markdown",
   "metadata": {},
   "source": [
    "#### Graph 2.2: Likelihood vs PAA Verbal"
   ]
  },
  {
   "cell_type": "code",
   "execution_count": null,
   "metadata": {},
   "outputs": [],
   "source": [
    "sns.regplot(df_rf_test.paa_verbal, df_rf_test.y_test_hat, order =2 , x_bins = 25)\n",
    "plt.ylabel(r'$\\^Yprob$')\n",
    "plt.xlabel('PAA Verbal')\n",
    "plt.show()"
   ]
  },
  {
   "cell_type": "markdown",
   "metadata": {},
   "source": [
    "#### Graph 2.3: Likelihood vs GPA"
   ]
  },
  {
   "cell_type": "code",
   "execution_count": null,
   "metadata": {},
   "outputs": [],
   "source": [
    "sns.regplot(df_rf_test.nem, df_rf_test.y_test_hat, x_bins = 15)\n",
    "plt.ylabel(r'$\\^Yprob$')\n",
    "plt.xlabel('GPA Score')\n",
    "plt.show()"
   ]
  },
  {
   "cell_type": "markdown",
   "metadata": {
    "collapsed": true
   },
   "source": [
    "### 2.2. Sensitivity Analysis"
   ]
  },
  {
   "cell_type": "markdown",
   "metadata": {
    "collapsed": true
   },
   "source": [
    "#### Graph 2.4: Accuracy of the model by each level likelihood"
   ]
  },
  {
   "cell_type": "code",
   "execution_count": null,
   "metadata": {},
   "outputs": [],
   "source": [
    "accuracy_list = []\n",
    "pr_list = list(np.unique(y_test_hat[:,1][y_test_hat[:,1]>=.5]))\n",
    "for pr in pr_list:\n",
    "    acc = np.mean(y_test[y_test_hat[:,1]>=pr] == y_test_predict[y_test_hat[:,1]>=pr])\n",
    "    accuracy_list.append(acc)\n",
    "\n",
    "ticks = np.arange(len(accuracy_list))\n",
    "pr_list = [round(x, 2) for x in pr_list]\n",
    "ticks_label = [str(x) for x in pr_list]\n",
    "\n",
    "plt.bar(ticks,accuracy_list, align='center', alpha=0.7, color = 'gray')\n",
    "plt.xticks(ticks, ticks_label)\n",
    "plt.xlabel('Y hat')\n",
    "plt.ylabel('Accuracy: 1 - Pr(failure)')\n",
    "plt.title('Likelihood of success when predicting that a student will become a teacher')"
   ]
  },
  {
   "cell_type": "markdown",
   "metadata": {
    "collapsed": true
   },
   "source": [
    "### 2.3. Cross Validation"
   ]
  },
  {
   "cell_type": "code",
   "execution_count": null,
   "metadata": {},
   "outputs": [],
   "source": [
    "accuracy_type2_rf = []\n",
    "accuracy_overall_rf = []\n",
    "\n",
    "accuracy_type2_dt = []\n",
    "accuracy_overall_dt = []\n",
    "\n",
    "accuracy_type2_lr = []\n",
    "accuracy_overall_lr = []\n",
    "\n",
    "for i in range(150):\n",
    "\n",
    "    X_train, X_test, y_train, y_test = train_test_split(X, Y, test_size=0.15)\n",
    "\n",
    "    clf = RandomForestClassifier()\n",
    "    clf = clf.fit(X_train, y_train)\n",
    "    y_test_hat = clf.predict(X_test)  #Prob of being teacher\n",
    "    acc_overall = np.mean(y_test == y_test_hat)\n",
    "    acc_type2 = np.mean(y_test[y_test_hat==1] == y_test_hat[y_test_hat==1])\n",
    "    accuracy_overall_rf.append(acc_overall)\n",
    "    accuracy_type2_rf.append(acc_type2)\n",
    "\n",
    "    clf = DecisionTreeClassifier()\n",
    "    clf = clf.fit(X_train, y_train)\n",
    "    y_test_hat = clf.predict(X_test)  #Prob of being Teacher\n",
    "    acc_overall = np.mean(y_test == y_test_hat)\n",
    "    acc_type2 = np.mean(y_test[y_test_hat==1] == y_test_hat[y_test_hat==1])\n",
    "    accuracy_overall_dt.append(acc_overall)\n",
    "    accuracy_type2_dt.append(acc_type2)\n",
    "\n",
    "    clf = LogisticRegression()\n",
    "    clf = clf.fit(X_train, y_train)\n",
    "    y_test_hat = clf.predict(X_test)  #Prob of being Teacher\n",
    "    acc_overall = np.mean(y_test == y_test_hat)\n",
    "    acc_type2 = np.mean(y_test[y_test_hat==1] == y_test_hat[y_test_hat==1])\n",
    "    accuracy_overall_lr.append(acc_overall)\n",
    "    accuracy_type2_lr.append(acc_type2)\n",
    "\n",
    "    if (i+1)%50 == 0:\n",
    "        print(f\"Crossvalidation: {i}\")"
   ]
  },
  {
   "cell_type": "markdown",
   "metadata": {},
   "source": [
    "#### Graph 2.5: Cross Validation LR vs RF"
   ]
  },
  {
   "cell_type": "code",
   "execution_count": null,
   "metadata": {},
   "outputs": [],
   "source": [
    "sns.kdeplot(accuracy_overall_lr, alpha=0.8, color = 'orange', label = 'Logistic Regression')\n",
    "sns.kdeplot(accuracy_overall_dt, alpha=0.8, color = 'gray', label = 'Decision Tree')\n",
    "sns.kdeplot(accuracy_overall_rf, alpha=0.8, color = 'black', label = 'Random Forest')\n",
    "plt.xlabel('Prediction success')\n",
    "plt.ylabel('Density')\n",
    "plt.title('Cross validation: Accuracy of Random Forest')\n",
    "plt.legend(loc=1)"
   ]
  },
  {
   "cell_type": "markdown",
   "metadata": {},
   "source": [
    "#### Graph 2.5: Overall Accuracy and Type 2 error of RF"
   ]
  },
  {
   "cell_type": "code",
   "execution_count": null,
   "metadata": {},
   "outputs": [],
   "source": [
    "sns.kdeplot(accuracy_overall_lr, alpha=0.8, color = 'orange', label = 'Logistic Regression')\n",
    "sns.kdeplot(accuracy_overall_dt, alpha=0.8, color = 'gray', label = 'Decision Tree')\n",
    "sns.kdeplot(accuracy_overall_rf, alpha=0.8, color = 'gray', label = 'Random Forest')\n",
    "plt.xlabel('Prediction success')\n",
    "plt.ylabel('Density')\n",
    "plt.title('Cross validation: Accuracy of Random Forest')\n",
    "plt.legend(loc=1)"
   ]
  },
  {
   "cell_type": "code",
   "execution_count": null,
   "metadata": {},
   "outputs": [],
   "source": [
    "Graph 2.5: Overall Accuracy and Type 2 error of RF"
   ]
  },
  {
   "cell_type": "code",
   "execution_count": null,
   "metadata": {},
   "outputs": [],
   "source": [
    "sns.kdeplot(accuracy_type2_rf, alpha=0.8, color = 'orange', label = 'Random Forest')\n",
    "sns.kdeplot(accuracy_type2_dt, alpha=0.8, color = 'gray', label = 'Decision Tree')\n",
    "plt.xlabel('Prediction success')\n",
    "plt.ylabel('Density')\n",
    "plt.title('Cross validation: Accuracy of Random Forest')\n",
    "plt.legend(loc=1)"
   ]
  },
  {
   "cell_type": "code",
   "execution_count": null,
   "metadata": {},
   "outputs": [],
   "source": []
  },
  {
   "cell_type": "code",
   "execution_count": null,
   "metadata": {},
   "outputs": [],
   "source": []
  },
  {
   "cell_type": "code",
   "execution_count": null,
   "metadata": {},
   "outputs": [],
   "source": []
  },
  {
   "cell_type": "code",
   "execution_count": null,
   "metadata": {},
   "outputs": [],
   "source": []
  },
  {
   "cell_type": "code",
   "execution_count": null,
   "metadata": {},
   "outputs": [],
   "source": []
  },
  {
   "cell_type": "code",
   "execution_count": null,
   "metadata": {},
   "outputs": [],
   "source": []
  },
  {
   "cell_type": "code",
   "execution_count": null,
   "metadata": {},
   "outputs": [],
   "source": []
  }
 ],
 "metadata": {
  "kernelspec": {
   "display_name": "Python 3",
   "language": "python",
   "name": "python3"
  },
  "language_info": {
   "codemirror_mode": {
    "name": "ipython",
    "version": 3
   },
   "file_extension": ".py",
   "mimetype": "text/x-python",
   "name": "python",
   "nbconvert_exporter": "python",
   "pygments_lexer": "ipython3",
   "version": "3.6.4"
  }
 },
 "nbformat": 4,
 "nbformat_minor": 2
}
